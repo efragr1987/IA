{
  "cells": [
    {
      "cell_type": "code",
      "execution_count": 60,
      "metadata": {
        "id": "mZ9cdJ4Nnn9c"
      },
      "outputs": [],
      "source": [
        "#DFS recursivo\n",
        "# Se crea el gráfico, (el gráfico no se ha interpretado, a todos los nodos se les ha asignado todos \n",
        "# los caminos que lo conectan)\n",
        "grafico= {\"S\": [\"A\",\"D\"],\n",
        "            \"D\": [\"S\",\"A\",\"E\"],\n",
        "            \"A\": [\"S\",\"D\", \"B\"],\n",
        "\t    \"E\": [\"D\",\"B\",\"F\"],\n",
        "\t    \"B\": [\"C\",\"E\",\"A\"],\n",
        "\t    \"F\": [\"G\",\"E\"],\n",
        "        \"C\": [\"B\"],\n",
        "        \"G\": [\"F\"]\n",
        "\t\t}\n",
        "\n",
        "def dfs_recursivo(grafico, busqueda,camino = [] ):\n",
        "\n",
        "       if busqueda not in camino:\n",
        "\n",
        "           camino.append(busqueda)  #si el valor de búsqueda no está en el camino[], lo ingresa\n",
        "\n",
        "           if busqueda not in grafico:\n",
        "               # leaf node, backtrack\n",
        "               return camino\n",
        "               \n",
        "           for vecinos in grafico[busqueda]:\n",
        "               \n",
        "               camino = dfs_recursivo(grafico, vecinos, camino)\n",
        "\n",
        "\n",
        "       return camino"
      ]
    },
    {
      "cell_type": "code",
      "execution_count": 61,
      "metadata": {
        "colab": {
          "base_uri": "https://localhost:8080/"
        },
        "id": "_hUP2KXNnx42",
        "outputId": "1cf4f480-465e-4764-820d-15b321551709"
      },
      "outputs": [
        {
          "name": "stdout",
          "output_type": "stream",
          "text": [
            "S A D E B C F G\n"
          ]
        }
      ],
      "source": [
        "camino = dfs_recursivo(grafico, \"S\") # ejecutamos el algoritmo con nuestro punto de partida\n",
        "\n",
        "print(\" \".join(camino))"
      ]
    },
    {
      "cell_type": "code",
      "execution_count": 58,
      "metadata": {
        "id": "Y0BQxO0YAY4i"
      },
      "outputs": [],
      "source": [
        "# BFS\n",
        "grafico = {\"S\": [\"A\",\"D\"],\n",
        "            \"D\": [\"S\",\"A\",\"E\"],\n",
        "            \"A\": [\"S\",\"D\", \"B\"],\n",
        "\t    \"E\": [\"D\",\"B\",\"F\"],\n",
        "\t    \"B\": [\"C\",\"E\",\"A\"],\n",
        "\t    \"F\": [\"G\",\"E\"],\n",
        "        \"C\": [\"B\"],\n",
        "        \"G\": [\"F\"]\n",
        "\t\t}\n",
        "\n",
        "visitados = [] # Esta será la lista donde se guardarán los nodos visitados en ordden\n",
        "cola = []     # Lista de cola\n",
        "\n",
        "def bfs(visitados, grafico, nodo):\n",
        "  visitados.append(nodo)\n",
        "  cola.append(nodo)\n",
        "\n",
        "  while cola:\n",
        "    s = cola.pop(0) \n",
        "\n",
        "    for vecinos in grafico[s]:\n",
        "      if vecinos not in visitados:\n",
        "        visitados.append(vecinos)\n",
        "        cola.append(vecinos) "
      ]
    },
    {
      "cell_type": "code",
      "execution_count": 59,
      "metadata": {
        "colab": {
          "base_uri": "https://localhost:8080/"
        },
        "id": "E22OKYQOBJyH",
        "outputId": "f6368273-f0bb-45fa-c7bd-345d8946ade2"
      },
      "outputs": [
        {
          "name": "stdout",
          "output_type": "stream",
          "text": [
            "S A D B E C F G\n"
          ]
        }
      ],
      "source": [
        "# Driver Code\n",
        "bfs(visitados, grafico, 'S')\n",
        "print(\" \".join(visitados))"
      ]
    }
  ],
  "metadata": {
    "colab": {
      "collapsed_sections": [],
      "name": "Te damos la bienvenida a Colaboratory",
      "provenance": []
    },
    "interpreter": {
      "hash": "ff9ae41f25e381c693179c52b1e15950df474457fcfe5bdc8e912ae70b6eee3c"
    },
    "kernelspec": {
      "display_name": "Python 3.9.7 64-bit",
      "name": "python3"
    },
    "language_info": {
      "codemirror_mode": {
        "name": "ipython",
        "version": 3
      },
      "file_extension": ".py",
      "mimetype": "text/x-python",
      "name": "python",
      "nbconvert_exporter": "python",
      "pygments_lexer": "ipython3",
      "version": "3.9.7"
    }
  },
  "nbformat": 4,
  "nbformat_minor": 0
}
